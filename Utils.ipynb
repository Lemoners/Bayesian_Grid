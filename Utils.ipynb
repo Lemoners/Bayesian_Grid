{
 "cells": [
  {
   "cell_type": "code",
   "execution_count": 44,
   "metadata": {},
   "outputs": [
    {
     "data": {
      "text/plain": [
       "array([[2, 0, 1, 0, 1, 0],\n",
       "       [1, 0, 0, 1, 0, 1],\n",
       "       [0, 1, 0, 1, 1, 1],\n",
       "       [0, 0, 1, 0, 1, 0],\n",
       "       [1, 0, 1, 0, 0, 1],\n",
       "       [0, 1, 0, 0, 0, 3]])"
      ]
     },
     "execution_count": 44,
     "metadata": {},
     "output_type": "execute_result"
    }
   ],
   "source": [
    "import numpy as np\n",
    "\n",
    "\n",
    "maze = np.random.randint(0, 2, (6,6))\n",
    "maze[0,0] = 2\n",
    "maze[5,5] = 3\n",
    "\n",
    "maze"
   ]
  },
  {
   "cell_type": "code",
   "execution_count": 83,
   "metadata": {},
   "outputs": [
    {
     "data": {
      "text/plain": [
       "array([[2, 0, 1, 0, 1, 0],\n",
       "       [1, 0, 0, 1, 0, 1],\n",
       "       [0, 1, 0, 0, 1, 1],\n",
       "       [0, 0, 1, 0, 1, 0],\n",
       "       [1, 0, 1, 0, 0, 1],\n",
       "       [0, 1, 0, 0, 0, 3]])"
      ]
     },
     "execution_count": 83,
     "metadata": {},
     "output_type": "execute_result"
    }
   ],
   "source": [
    "def direction2action(delta_x, delta_y):\n",
    "    if (delta_x == 0):\n",
    "        if (delta_y == 1):\n",
    "            return 2\n",
    "        elif (delta_y == 0):\n",
    "            return 0\n",
    "        elif (delta_y == -1):\n",
    "            return 1\n",
    "    elif (delta_x == 1 and delta_y == 0):\n",
    "        return 4\n",
    "    elif (delta_x == -1 and delta_y == 0):\n",
    "        return 3\n",
    "    raise Exception(\"Unknown direction\")\n",
    "\n",
    "def action2direction(action):\n",
    "    a2d = [(0,0), (0, -1), (0, 1), (-1, 0), (1, 0)]\n",
    "    return a2d[action]\n",
    "\n",
    "maze[2,3] = 0\n",
    "maze"
   ]
  },
  {
   "cell_type": "code",
   "execution_count": 88,
   "metadata": {},
   "outputs": [
    {
     "name": "stdout",
     "output_type": "stream",
     "text": [
      "[[2 0 1 0 1 0]\n",
      " [1 0 0 1 0 1]\n",
      " [0 1 0 0 1 1]\n",
      " [0 0 1 0 1 0]\n",
      " [1 0 1 0 0 1]\n",
      " [0 1 0 0 0 3]] 4\n",
      "[[0 2 1 0 1 0]\n",
      " [1 0 0 1 0 1]\n",
      " [0 1 0 0 1 1]\n",
      " [0 0 1 0 1 0]\n",
      " [1 0 1 0 0 1]\n",
      " [0 1 0 0 0 3]] 2\n",
      "[[0 0 1 0 1 0]\n",
      " [1 2 0 1 0 1]\n",
      " [0 1 0 0 1 1]\n",
      " [0 0 1 0 1 0]\n",
      " [1 0 1 0 0 1]\n",
      " [0 1 0 0 0 3]] 4\n",
      "[[0 0 1 0 1 0]\n",
      " [1 0 2 1 0 1]\n",
      " [0 1 0 0 1 1]\n",
      " [0 0 1 0 1 0]\n",
      " [1 0 1 0 0 1]\n",
      " [0 1 0 0 0 3]] 2\n",
      "[[0 0 1 0 1 0]\n",
      " [1 0 0 1 0 1]\n",
      " [0 1 2 0 1 1]\n",
      " [0 0 1 0 1 0]\n",
      " [1 0 1 0 0 1]\n",
      " [0 1 0 0 0 3]] 4\n",
      "[[0 0 1 0 1 0]\n",
      " [1 0 0 1 0 1]\n",
      " [0 1 0 2 1 1]\n",
      " [0 0 1 0 1 0]\n",
      " [1 0 1 0 0 1]\n",
      " [0 1 0 0 0 3]] 2\n",
      "[[0 0 1 0 1 0]\n",
      " [1 0 0 1 0 1]\n",
      " [0 1 0 0 1 1]\n",
      " [0 0 1 2 1 0]\n",
      " [1 0 1 0 0 1]\n",
      " [0 1 0 0 0 3]] 2\n",
      "[[0 0 1 0 1 0]\n",
      " [1 0 0 1 0 1]\n",
      " [0 1 0 0 1 1]\n",
      " [0 0 1 0 1 0]\n",
      " [1 0 1 2 0 1]\n",
      " [0 1 0 0 0 3]] 2\n",
      "[[0 0 1 0 1 0]\n",
      " [1 0 0 1 0 1]\n",
      " [0 1 0 0 1 1]\n",
      " [0 0 1 0 1 0]\n",
      " [1 0 1 0 0 1]\n",
      " [0 1 0 2 0 3]] 4\n",
      "[[0 0 1 0 1 0]\n",
      " [1 0 0 1 0 1]\n",
      " [0 1 0 0 1 1]\n",
      " [0 0 1 0 1 0]\n",
      " [1 0 1 0 0 1]\n",
      " [0 1 0 0 2 3]] 4\n"
     ]
    }
   ],
   "source": [
    "class BFS():\n",
    "    def solve(self, maze):\n",
    "        \"\"\"\n",
    "        param: maze: numpy.matrix\n",
    "        return: history: [numpy.matrix, action]\n",
    "        return: solvable: boolean\n",
    "        \"\"\"\n",
    "        \n",
    "        # reset param\n",
    "        self._reset(maze)\n",
    "        \n",
    "        self.search_maze = maze.copy()\n",
    "        self.visited = maze.copy()\n",
    "        self.visited[np.where(self.visited==3)] = 0\n",
    "        self.visited[np.where(self.visited==2)] = 0\n",
    "        \n",
    "        search = []\n",
    "        history = []\n",
    "        \n",
    "        # start BFS\n",
    "        search.append((0,0))\n",
    "        self.visited[0,0] = 1\n",
    "        \n",
    "        while(len(search) > 0):\n",
    "            x,y = search[0]\n",
    "            search = search[1:]\n",
    "            \n",
    "            if (self.search_maze[y,x] == 3):\n",
    "                self.search_maze[np.where(self.search_maze==2)] = 0\n",
    "                hx, hy = x, y\n",
    "                while True:\n",
    "                    if (hx == 0 and hy == 0):\n",
    "                        break\n",
    "                    thisx, thisy = self.parent[hy, hx]\n",
    "                    action = direction2action(hx-thisx, hy-thisy)\n",
    "                    if (self.search_maze[hy, hx] == 2):\n",
    "                        self.search_maze[hy, hx] = 0\n",
    "                    self.search_maze[thisy, thisx] = 2\n",
    "                    hx, hy = thisx, thisy\n",
    "                    history.append((self.search_maze.copy(), action))\n",
    "                break\n",
    "            neibs = self._get_neighbour((x,y))\n",
    "            for n in neibs:\n",
    "                nx, ny = n\n",
    "                self.visited[ny, nx] = 1\n",
    "                self.parent[ny, nx] = (x,y)\n",
    "                search.append(n)\n",
    "        \n",
    "        history.reverse()\n",
    "        solvable = True\n",
    "        if len(history) == 0:\n",
    "            solvable = False\n",
    "        return history, solvable    \n",
    "            \n",
    "        \n",
    "    def _get_neighbour(self, pos):\n",
    "        h, w = self.search_maze.shape\n",
    "        x,y = pos\n",
    "        delta_x = [0, 0, -1, 1]\n",
    "        delta_y = [-1, 1, 0, 0]\n",
    "        neibs = []\n",
    "        \n",
    "        for i in range(4):\n",
    "            new_x = x + delta_x[i]\n",
    "            new_y = y + delta_y[i]\n",
    "            if (0<= new_x < w and 0 <= new_y < h and self.visited[new_y][new_x] == 0):\n",
    "                neibs.append((new_x, new_y))\n",
    "        return neibs\n",
    "        \n",
    "        \n",
    "    def _reset(self, maze):\n",
    "        self.parent = np.array([[(-1,-1) for i in range(6)] for i in range(6)])\n",
    "        self.pos = (0,0)\n",
    "        self.h, self.w = maze.shape\n",
    "\n",
    "bfs = BFS()\n",
    "bfs.solve(maze)"
   ]
  },
  {
   "cell_type": "code",
   "execution_count": 55,
   "metadata": {},
   "outputs": [
    {
     "data": {
      "text/plain": [
       "(1, 2)"
      ]
     },
     "execution_count": 55,
     "metadata": {},
     "output_type": "execute_result"
    }
   ],
   "source": [
    "def BasicMiniGridEnv():\n",
    "    def __init__(self, maze=None):\n",
    "        \"\"\"\n",
    "        param: maze: numpy.matrix\n",
    "        \"\"\"\n",
    "        self.maze = maze\n",
    "        self.h, self.w = maze.shape"
   ]
  },
  {
   "cell_type": "code",
   "execution_count": 4,
   "metadata": {},
   "outputs": [
    {
     "name": "stdout",
     "output_type": "stream",
     "text": [
      "0 : tensor([[ 7.,  8.,  9., 10., 11., 12.]])\n",
      "1 : tensor([[1., 2., 3., 4., 5., 6.]])\n",
      "End\n"
     ]
    }
   ],
   "source": [
    "import torch\n",
    "import numpy as np\n",
    "\n",
    "a = torch.tensor([[[1,2,3], [4,5,6]], [[7,8,9], [10,11,12]]], dtype=torch.float32)\n",
    "dl = torch.utils.data.DataLoader(dataset=a, batch_size=1, shuffle=True)\n",
    "for i, d in enumerate(dl):\n",
    "    print(i, \":\", d.view(-1, 6))\n",
    "\n",
    "print(\"End\")\n",
    "# print(torch.randn_like(a))"
   ]
  },
  {
   "cell_type": "code",
   "execution_count": 21,
   "metadata": {},
   "outputs": [
    {
     "data": {
      "text/plain": [
       "False"
      ]
     },
     "execution_count": 21,
     "metadata": {},
     "output_type": "execute_result"
    }
   ],
   "source": [
    "import numpy as np\n",
    "a = np.matrix([[1,2],[3,4]])\n",
    "list(np.where(a==3)) == (1,0)\n",
    "# print(x, y)"
   ]
  }
 ],
 "metadata": {
  "kernelspec": {
   "display_name": "Python 3",
   "language": "python",
   "name": "python3"
  },
  "language_info": {
   "codemirror_mode": {
    "name": "ipython",
    "version": 3
   },
   "file_extension": ".py",
   "mimetype": "text/x-python",
   "name": "python",
   "nbconvert_exporter": "python",
   "pygments_lexer": "ipython3",
   "version": "3.7.6"
  }
 },
 "nbformat": 4,
 "nbformat_minor": 4
}
